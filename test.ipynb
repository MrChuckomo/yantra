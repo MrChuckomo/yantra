{
 "cells": [
  {
   "cell_type": "code",
   "execution_count": 1,
   "metadata": {},
   "outputs": [],
   "source": [
    "import turtle\n",
    "\n",
    "from PIL import Image\n",
    "# from svglib.svglib import svg2rlg\n",
    "# from reportlab.graphics import renderPM"
   ]
  },
  {
   "cell_type": "markdown",
   "metadata": {},
   "source": [
    "# First Steps"
   ]
  },
  {
   "cell_type": "code",
   "execution_count": 3,
   "metadata": {},
   "outputs": [],
   "source": [
    "t = turtle.Turtle()\n",
    "# s = turtle.getscreen()\n",
    "\n",
    "# t.right(90)\n",
    "# t.forward(100)\n",
    "# t.left(90)\n",
    "# t.backward(100)\n",
    "\n",
    "t.goto(100, 100)\n",
    "\n",
    "t.fd(100)\n",
    "t.rt(90)\n",
    "t.fd(100)\n",
    "t.rt(90)\n",
    "t.fd(100)\n",
    "t.rt(90)\n",
    "t.fd(100)\n",
    "\n",
    "t.home()\n",
    "t.hideturtle()\n"
   ]
  },
  {
   "cell_type": "code",
   "execution_count": 4,
   "metadata": {},
   "outputs": [],
   "source": [
    "t.circle(60)\n",
    "t.circle(10, 150)"
   ]
  },
  {
   "cell_type": "code",
   "execution_count": null,
   "metadata": {},
   "outputs": [],
   "source": [
    "s = turtle.Screen()\n",
    "canvas = s.getcanvas()\n",
    "\n",
    "# # Save the canvas as an image\n",
    "canvas.postscript(file=\"export/mandala.eps\")  # Save as EPS file\n",
    "\n",
    "# # Close the turtle graphics window\n",
    "# turtle.done()\n",
    "# turtle.bye()"
   ]
  },
  {
   "cell_type": "code",
   "execution_count": null,
   "metadata": {},
   "outputs": [],
   "source": [
    "# Open the EPS file\n",
    "eps_image = Image.open(\"export/mandala.eps\")\n",
    "\n",
    "# Convert the EPS image to PNG\n",
    "png_image = eps_image.convert(\"RGBA\")\n",
    "\n",
    "# Save the PNG image\n",
    "png_image.save(\"export/mandala.png\", \"PNG\")\n",
    "\n",
    "# Close the images\n",
    "eps_image.close()\n",
    "png_image.close()"
   ]
  },
  {
   "cell_type": "markdown",
   "metadata": {},
   "source": [
    "# Example\n",
    "\n",
    "https://www.youtube.com/watch?v=MXeSiUxrhMI&ab_channel=BasicPythonTurtleArt"
   ]
  },
  {
   "cell_type": "code",
   "execution_count": null,
   "metadata": {},
   "outputs": [],
   "source": [
    "t = turtle.Turtle()                     #Definitions and Initializations\n",
    "screen = turtle.Screen()\n",
    "t.pensize(4)\n",
    "graphic_size = 100                              #Changeable; Radius of bigger arc in \"droplet\" as defined below\n",
    "counter = 2                                     #Multiplier of 30 degrees, the difference in angular rotation between droplet sets\n",
    "screen.colormode(255)                           #Requirement to use the red, green, and blue values in (r, g, b)\n",
    "r = 255                                         #Initial red value\n",
    "g = 0                                           #Initial green value\n",
    "b = 50                                          #Initial blue value; Initial (r, g, b) = (255, 0, 50) for darkish red\n",
    "def droplet(x):                                 #Procedure for drawing a \"droplet\" with size x\n",
    "    t.circle(x, 150)                            #Lower right arc of droplet \n",
    "    t.circle(-x, 60)                            #Upper right arc of droplet; negative r for clockwise drawing\n",
    "    t.left(180)                                 #Turtle rotation to draw upper left arc of droplet\n",
    "    t.circle(-x, 60)                            #Upper left arc of droplet; negative r for clockwise drawing\n",
    "    t.circle(x, 150)                            #Lower left arc of droplet\n",
    "t.color(255, 255, 0)                            #Initial pen and fill color, which is yellow\n",
    "t.forward(250)                          #Python_Graphic start of drawing procedure\n",
    "t.left(90)                                      #Turtle rotation after movement from the center of graphic\n",
    "t.fillcolor()                                   #Start of procedure for color filling of big, yellow circle\n",
    "t.begin_fill()\n",
    "t.circle(250)                                   #Drawing of big, yellow circle\n",
    "t.end_fill()                                    #Execution of color fill for big, yellow circle\n",
    "t.color((0, 0, 0), (r, g, b))                   #Change of pen and fill color to black and darkish red, respectively\n",
    "t.penup()\n",
    "t.home()                                        #Trail-less movement of turtle to default center and rotation\n",
    "for i in [0.8, 0.7, 0.4]:                       #Loop to draw three droplet layers or groups with various sizes\n",
    "    for j in range(6):                          #Sub-loop to draw 6 droplets within a layer or group\n",
    "        t.left(30 * counter + j * 60)           #Turtle rotation to draw first of 6 droplets; Reference to \"counter\" above\n",
    "        t.forward(i * graphic_size)             #Trail-less movement of turtle to starting point of a droplet drawing\n",
    "        t.right(90)                             #Turtle rotation to start a droplet drawing\n",
    "        t.pendown()                             #Start of a droplet drawing\n",
    "        t.fillcolor(r, g, b)                    #Start of fill procedure for a droplet with current color (r, g, b)\n",
    "        t.begin_fill()\n",
    "        droplet(i * graphic_size)               #Function call to draw a droplet with indicated size \n",
    "        t.end_fill()                            #Execution of color fill for droplet\n",
    "        t.penup()\n",
    "        t.home()                                #Trail-less movement of turtle to default center and rotation\n",
    "    counter += 1                                #Change of counter value after a layer or group of droplets is drawn\n",
    "    b += 100                                    #Change of blue value to reflect change of fill color for next layer of droplets\n",
    "t.hideturtle()\n",
    "screen.exitonclick()"
   ]
  },
  {
   "cell_type": "markdown",
   "metadata": {},
   "source": [
    "# Mandala"
   ]
  },
  {
   "cell_type": "code",
   "execution_count": 2,
   "metadata": {},
   "outputs": [],
   "source": [
    "t = turtle.Turtle()                     #Definitions and Initializations\n",
    "screen = turtle.Screen()\n",
    "\n",
    "t.speed(1000)\n",
    "\n",
    "# t.pensize(4)\n",
    "graphic_size = 100                              #Changeable; Radius of bigger arc in \"droplet\" as defined below\n",
    "counter = 2                                     #Multiplier of 30 degrees, the difference in angular rotation between droplet sets\n",
    "\n",
    "def droplet(x):                                 #Procedure for drawing a \"droplet\" with size x\n",
    "    t.circle(x, 150)                            #Lower right arc of droplet\n",
    "    t.circle(-x, 60)                            #Upper right arc of droplet; negative r for clockwise drawing\n",
    "    t.left(180)                                 #Turtle rotation to draw upper left arc of droplet\n",
    "    t.circle(-x, 60)                            #Upper left arc of droplet; negative r for clockwise drawing\n",
    "    t.circle(x, 150)                            #Lower left arc of droplet\n",
    "\n",
    "t.penup()\n",
    "t.forward(250)                          #Python_Graphic start of drawing procedure\n",
    "t.pendown()\n",
    "t.left(90)                                      #Turtle rotation after movement from the center of graphic\n",
    "t.circle(250)                                   #Drawing of big, yellow circle\n",
    "\n",
    "t.penup()\n",
    "t.home()                                        #Trail-less movement of turtle to default center and rotation\n",
    "\n",
    "t.forward(260)\n",
    "t.pendown()\n",
    "t.left(90)\n",
    "t.circle(260)\n",
    "\n",
    "t.penup()\n",
    "t.home()                                        #Trail-less movement of turtle to default center and rotation\n",
    "\n",
    "for i in [0.8, 0.7, 0.4]:                       #Loop to draw three droplet layers or groups with various sizes\n",
    "    for j in range(6):                          #Sub-loop to draw 6 droplets within a layer or group\n",
    "        t.left(30 * counter + j * 60)           #Turtle rotation to draw first of 6 droplets; Reference to \"counter\" above\n",
    "        t.forward(i * graphic_size)             #Trail-less movement of turtle to starting point of a droplet drawing\n",
    "        t.right(90)                             #Turtle rotation to start a droplet drawing\n",
    "        t.pendown()                             #Start of a droplet drawing\n",
    "        droplet(i * graphic_size)               #Function call to draw a droplet with indicated size\n",
    "\n",
    "        t.penup()\n",
    "        t.home()                                #Trail-less movement of turtle to default center and rotation\n",
    "\n",
    "    counter += 1                                #Change of counter value after a layer or group of droplets is drawn\n",
    "\n",
    "t.hideturtle()\n",
    "\n",
    "\n",
    "\n",
    "\n",
    "\n",
    "# Save the canvas as an image\n",
    "canvas = screen.getcanvas()\n",
    "canvas.postscript(file='export/mandala.eps')  # Save as EPS file\n",
    "eps_image = Image.open('export/mandala.eps')\n",
    "\n",
    "rbga_image = eps_image.convert('RGBA')\n",
    "rbga_image.save('export/mandala.png', 'PNG', optimize=True, quality=95)\n",
    "rbga_image.close()\n",
    "\n",
    "# rgb_image = eps_image.convert('RGB')\n",
    "# rgb_image.save('export/mandala.jpg', 'JPEG', quality=95)\n",
    "# rgb_image.close()\n",
    "\n",
    "# rgb_image = eps_image.convert('RGB')\n",
    "# rgb_image.save('export/mandala.tiff', format='TIFF')\n",
    "# rgb_image.close()\n",
    "\n",
    "# rgb_image = eps_image.convert('RGB')\n",
    "# drawing = svg2rlg(rgb_image)\n",
    "# renderPM.drawToFile(drawing, 'export/mandala.svg', fmt='SVG')\n",
    "# rgb_image.close()\n",
    "\n",
    "eps_image.close()"
   ]
  }
 ],
 "metadata": {
  "kernelspec": {
   "display_name": "Python 3",
   "language": "python",
   "name": "python3"
  },
  "language_info": {
   "codemirror_mode": {
    "name": "ipython",
    "version": 3
   },
   "file_extension": ".py",
   "mimetype": "text/x-python",
   "name": "python",
   "nbconvert_exporter": "python",
   "pygments_lexer": "ipython3",
   "version": "3.10.12"
  },
  "orig_nbformat": 4
 },
 "nbformat": 4,
 "nbformat_minor": 2
}
