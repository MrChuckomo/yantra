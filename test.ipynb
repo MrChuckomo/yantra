{
 "cells": [
  {
   "cell_type": "code",
   "execution_count": 3,
   "metadata": {},
   "outputs": [],
   "source": [
    "import math\n",
    "import turtle\n",
    "import turtle as tur\n",
    "\n",
    "from PIL import Image\n",
    "\n",
    "from src.shapes.basic import square, hash_square, diamond, triangle_line, hexagon\n",
    "from src.shapes.medium import inner_circles, leaf, line_dots\n",
    "from src.shapes.frame import plus_frame, corner_frame, triangle_frame, circle_edge"
   ]
  },
  {
   "cell_type": "code",
   "execution_count": 7,
   "metadata": {},
   "outputs": [],
   "source": [
    "import turtle as tur\n",
    "\n",
    "tur.speed(100)\n",
    "\n",
    "# diamond()\n",
    "# triangle_frame()\n",
    "# circle_edge(150, 20, 100)"
   ]
  },
  {
   "cell_type": "code",
   "execution_count": 5,
   "metadata": {},
   "outputs": [],
   "source": [
    "inner_circles(350)\n",
    "inner_circles(50)"
   ]
  },
  {
   "cell_type": "code",
   "execution_count": 3,
   "metadata": {},
   "outputs": [],
   "source": [
    "\n",
    "def droplet(t, x, fill: bool=False):\n",
    "    if fill: t.fillcolor('white')\n",
    "    if fill: t.begin_fill()\n",
    "    t.circle(x, 150)\n",
    "    t.circle(-x, 60)\n",
    "    t.left(180)\n",
    "    t.circle(-x, 60)\n",
    "    t.circle(x, 150)\n",
    "    if fill: t.end_fill()\n",
    "\n",
    "def triangle(t, d):\n",
    "    t.forward(d)\n",
    "    t.left(120)\n",
    "    t.forward(d)\n",
    "    t.left(120)\n",
    "    t.forward(d)\n",
    "\n",
    "def bubble_up(t):\n",
    "    n=10\n",
    "    while n <= 40:\n",
    "        t.circle(n)\n",
    "        n = n+10\n",
    "\n",
    "def draw_egg(t, x, y, size, tilt):\n",
    "    t.up()\n",
    "    t.goto(x, y)\n",
    "    t.down()\n",
    "    t.seth(270 + tilt)\n",
    "    # t.color('red')\n",
    "    t.circle(size, 180)\n",
    "    # t.color('blue')\n",
    "    t.circle(2*size, 45)\n",
    "    # t.color('green')\n",
    "    t.circle(0.586 * size, 90)\n",
    "    # t.color('blue')\n",
    "    t.circle(2 * size, 45)\n",
    "\n",
    "def save_image(t, s):\n",
    "    t.hideturtle()\n",
    "    canvas = s.getcanvas()\n",
    "    canvas.postscript(file='export/mandala.eps')\n",
    "    eps_image = Image.open('export/mandala.eps')\n",
    "\n",
    "    rbga_image = eps_image.convert('RGBA')\n",
    "    rbga_image.save('export/mandala.png', 'PNG', optimize=True, quality=95)\n",
    "    rbga_image.close()\n",
    "\n",
    "    eps_image.close()"
   ]
  },
  {
   "cell_type": "code",
   "execution_count": 4,
   "metadata": {},
   "outputs": [
    {
     "ename": "NameError",
     "evalue": "name 't' is not defined",
     "output_type": "error",
     "traceback": [
      "\u001b[0;31m---------------------------------------------------------------------------\u001b[0m",
      "\u001b[0;31mNameError\u001b[0m                                 Traceback (most recent call last)",
      "Cell \u001b[0;32mIn[4], line 1\u001b[0m\n\u001b[0;32m----> 1\u001b[0m save_image(t, s)\n",
      "\u001b[0;31mNameError\u001b[0m: name 't' is not defined"
     ]
    }
   ],
   "source": [
    "save_image(t, s)"
   ]
  },
  {
   "cell_type": "markdown",
   "metadata": {},
   "source": [
    "# Start"
   ]
  },
  {
   "cell_type": "code",
   "execution_count": 2,
   "metadata": {},
   "outputs": [],
   "source": [
    "t = turtle.Turtle()\n",
    "s = turtle.Screen()\n",
    "t.speed(100)\n",
    "t.hideturtle()\n",
    "\n",
    "# droplet(t, 100 * 0.7)\n",
    "# bubble_up(t)\n",
    "# triangle(t, 100 * 1.7)\n",
    "\n",
    "# ! sectors\n",
    "# square(t, 100, 0)\n",
    "# square(t, 100, 90)\n",
    "# square(t, 100, 180)\n",
    "# square(t, 100, 270)\n",
    "\n",
    "# t.speed(1)\n",
    "\n",
    "\n",
    "# t.circle(-75)\n",
    "\n",
    "# t.reset"
   ]
  },
  {
   "cell_type": "markdown",
   "metadata": {},
   "source": [
    "## Line with dots"
   ]
  },
  {
   "cell_type": "code",
   "execution_count": null,
   "metadata": {},
   "outputs": [],
   "source": [
    "#! Left\n",
    "line_dots(t, 50, angle=180, circle_r=5)\n",
    "line_dots(t, 40, angle=155, circle_r=5)\n",
    "line_dots(t, 40, angle=205, circle_r=5)\n",
    "\n",
    "#! Right\n",
    "line_dots(t, 50, angle=0, circle_r=5)\n",
    "line_dots(t, 40, angle=25, circle_r=5)\n",
    "line_dots(t, 40, angle=335, circle_r=5)\n",
    "\n",
    "#! Upside\n",
    "line_dots(t, 50, angle=90, circle_r=5)\n",
    "line_dots(t, 40, angle=65, circle_r=5)\n",
    "line_dots(t, 40, angle=115, circle_r=5)\n",
    "\n",
    "#! Downside\n",
    "line_dots(t, 50, angle=270, circle_r=5)\n",
    "line_dots(t, 40, angle=295, circle_r=5)\n",
    "line_dots(t, 40, angle=245, circle_r=5)\n",
    "# line_dots(t, 100, angle=270, circle_r=10)\n",
    "# line_dots(t, 70, angle=295, circle_r=10)\n",
    "# line_dots(t, 70, angle=245, circle_r=10)\n"
   ]
  },
  {
   "cell_type": "code",
   "execution_count": null,
   "metadata": {},
   "outputs": [],
   "source": [
    "t.clear()"
   ]
  },
  {
   "cell_type": "markdown",
   "metadata": {},
   "source": [
    "## Egg"
   ]
  },
  {
   "cell_type": "code",
   "execution_count": 5,
   "metadata": {},
   "outputs": [
    {
     "ename": "KeyboardInterrupt",
     "evalue": "",
     "output_type": "error",
     "traceback": [
      "\u001b[0;31m---------------------------------------------------------------------------\u001b[0m",
      "\u001b[0;31mKeyboardInterrupt\u001b[0m                         Traceback (most recent call last)",
      "Cell \u001b[0;32mIn[5], line 4\u001b[0m\n\u001b[1;32m      1\u001b[0m \u001b[39m# draw_egg(t, 0, 200, 120, 180)\u001b[39;00m\n\u001b[1;32m      3\u001b[0m \u001b[39mfor\u001b[39;00m _ \u001b[39min\u001b[39;00m \u001b[39mrange\u001b[39m(\u001b[39m0\u001b[39m, \u001b[39m100\u001b[39m):\n\u001b[0;32m----> 4\u001b[0m     leaf(size\u001b[39m=\u001b[39;49m\u001b[39m300\u001b[39;49m)\n\u001b[1;32m      5\u001b[0m \u001b[39mfor\u001b[39;00m _ \u001b[39min\u001b[39;00m \u001b[39mrange\u001b[39m(\u001b[39m0\u001b[39m, \u001b[39m100\u001b[39m):\n\u001b[1;32m      6\u001b[0m     leaf(size\u001b[39m=\u001b[39m\u001b[39m200\u001b[39m)\n",
      "File \u001b[0;32m~/Developer/github/yantra/src/shapes/medium.py:48\u001b[0m, in \u001b[0;36mleaf\u001b[0;34m(size, fill)\u001b[0m\n\u001b[1;32m     46\u001b[0m tur\u001b[39m.\u001b[39mcircle(size, \u001b[39m70\u001b[39m)\n\u001b[1;32m     47\u001b[0m tur\u001b[39m.\u001b[39mleft(\u001b[39m110\u001b[39m)\n\u001b[0;32m---> 48\u001b[0m tur\u001b[39m.\u001b[39;49mcircle(size, \u001b[39m70\u001b[39;49m)\n\u001b[1;32m     49\u001b[0m \u001b[39mif\u001b[39;00m fill: tur\u001b[39m.\u001b[39mend_fill()\n",
      "File \u001b[0;32m<string>:8\u001b[0m, in \u001b[0;36mcircle\u001b[0;34m(radius, extent, steps)\u001b[0m\n",
      "File \u001b[0;32m~/Developer/github/yantra/ops/pyenv/yantra_mandala/lib/python3.10/turtle.py:1990\u001b[0m, in \u001b[0;36mTNavigator.circle\u001b[0;34m(self, radius, extent, steps)\u001b[0m\n\u001b[1;32m   1988\u001b[0m \u001b[39mself\u001b[39m\u001b[39m.\u001b[39m_rotate(w2)\n\u001b[1;32m   1989\u001b[0m \u001b[39mfor\u001b[39;00m i \u001b[39min\u001b[39;00m \u001b[39mrange\u001b[39m(steps):\n\u001b[0;32m-> 1990\u001b[0m     \u001b[39mself\u001b[39;49m\u001b[39m.\u001b[39;49mspeed(speed)\n\u001b[1;32m   1991\u001b[0m     \u001b[39mself\u001b[39m\u001b[39m.\u001b[39m_go(l)\n\u001b[1;32m   1992\u001b[0m     \u001b[39mself\u001b[39m\u001b[39m.\u001b[39mspeed(\u001b[39m0\u001b[39m)\n",
      "File \u001b[0;32m~/Developer/github/yantra/ops/pyenv/yantra_mandala/lib/python3.10/turtle.py:2174\u001b[0m, in \u001b[0;36mTPen.speed\u001b[0;34m(self, speed)\u001b[0m\n\u001b[1;32m   2172\u001b[0m \u001b[39melse\u001b[39;00m:\n\u001b[1;32m   2173\u001b[0m     speed \u001b[39m=\u001b[39m \u001b[39m0\u001b[39m\n\u001b[0;32m-> 2174\u001b[0m \u001b[39mself\u001b[39;49m\u001b[39m.\u001b[39;49mpen(speed\u001b[39m=\u001b[39;49mspeed)\n",
      "File \u001b[0;32m~/Developer/github/yantra/ops/pyenv/yantra_mandala/lib/python3.10/turtle.py:2459\u001b[0m, in \u001b[0;36mTPen.pen\u001b[0;34m(self, pen, **pendict)\u001b[0m\n\u001b[1;32m   2456\u001b[0m     sa, ca \u001b[39m=\u001b[39m math\u001b[39m.\u001b[39msin(\u001b[39mself\u001b[39m\u001b[39m.\u001b[39m_tilt), math\u001b[39m.\u001b[39mcos(\u001b[39mself\u001b[39m\u001b[39m.\u001b[39m_tilt)\n\u001b[1;32m   2457\u001b[0m     \u001b[39mself\u001b[39m\u001b[39m.\u001b[39m_shapetrafo \u001b[39m=\u001b[39m ( scx\u001b[39m*\u001b[39mca, scy\u001b[39m*\u001b[39m(shf\u001b[39m*\u001b[39mca \u001b[39m+\u001b[39m sa),\n\u001b[1;32m   2458\u001b[0m                         \u001b[39m-\u001b[39mscx\u001b[39m*\u001b[39msa, scy\u001b[39m*\u001b[39m(ca \u001b[39m-\u001b[39m shf\u001b[39m*\u001b[39msa))\n\u001b[0;32m-> 2459\u001b[0m \u001b[39mself\u001b[39;49m\u001b[39m.\u001b[39;49m_update()\n",
      "File \u001b[0;32m~/Developer/github/yantra/ops/pyenv/yantra_mandala/lib/python3.10/turtle.py:2663\u001b[0m, in \u001b[0;36mRawTurtle._update\u001b[0;34m(self)\u001b[0m\n\u001b[1;32m   2661\u001b[0m     \u001b[39mself\u001b[39m\u001b[39m.\u001b[39m_drawturtle()\n\u001b[1;32m   2662\u001b[0m     screen\u001b[39m.\u001b[39m_update()                  \u001b[39m# TurtleScreenBase\u001b[39;00m\n\u001b[0;32m-> 2663\u001b[0m     screen\u001b[39m.\u001b[39;49m_delay(screen\u001b[39m.\u001b[39;49m_delayvalue) \u001b[39m# TurtleScreenBase\u001b[39;00m\n\u001b[1;32m   2664\u001b[0m \u001b[39melse\u001b[39;00m:\n\u001b[1;32m   2665\u001b[0m     \u001b[39mself\u001b[39m\u001b[39m.\u001b[39m_update_data()\n",
      "File \u001b[0;32m~/Developer/github/yantra/ops/pyenv/yantra_mandala/lib/python3.10/turtle.py:565\u001b[0m, in \u001b[0;36mTurtleScreenBase._delay\u001b[0;34m(self, delay)\u001b[0m\n\u001b[1;32m    563\u001b[0m \u001b[39mdef\u001b[39;00m \u001b[39m_delay\u001b[39m(\u001b[39mself\u001b[39m, delay):\n\u001b[1;32m    564\u001b[0m \u001b[39m    \u001b[39m\u001b[39m\"\"\"Delay subsequent canvas actions for delay ms.\"\"\"\u001b[39;00m\n\u001b[0;32m--> 565\u001b[0m     \u001b[39mself\u001b[39;49m\u001b[39m.\u001b[39;49mcv\u001b[39m.\u001b[39;49mafter(delay)\n",
      "File \u001b[0;32m~/Developer/github/yantra/ops/pyenv/yantra_mandala/lib/python3.10/tkinter/__init__.py:834\u001b[0m, in \u001b[0;36mMisc.after\u001b[0;34m(self, ms, func, *args)\u001b[0m\n\u001b[1;32m    826\u001b[0m \u001b[39m\u001b[39m\u001b[39m\"\"\"Call function once after given time.\u001b[39;00m\n\u001b[1;32m    827\u001b[0m \n\u001b[1;32m    828\u001b[0m \u001b[39mMS specifies the time in milliseconds. FUNC gives the\u001b[39;00m\n\u001b[1;32m    829\u001b[0m \u001b[39mfunction which shall be called. Additional parameters\u001b[39;00m\n\u001b[1;32m    830\u001b[0m \u001b[39mare given as parameters to the function call.  Return\u001b[39;00m\n\u001b[1;32m    831\u001b[0m \u001b[39midentifier to cancel scheduling with after_cancel.\"\"\"\u001b[39;00m\n\u001b[1;32m    832\u001b[0m \u001b[39mif\u001b[39;00m func \u001b[39mis\u001b[39;00m \u001b[39mNone\u001b[39;00m:\n\u001b[1;32m    833\u001b[0m     \u001b[39m# I'd rather use time.sleep(ms*0.001)\u001b[39;00m\n\u001b[0;32m--> 834\u001b[0m     \u001b[39mself\u001b[39;49m\u001b[39m.\u001b[39;49mtk\u001b[39m.\u001b[39;49mcall(\u001b[39m'\u001b[39;49m\u001b[39mafter\u001b[39;49m\u001b[39m'\u001b[39;49m, ms)\n\u001b[1;32m    835\u001b[0m     \u001b[39mreturn\u001b[39;00m \u001b[39mNone\u001b[39;00m\n\u001b[1;32m    836\u001b[0m \u001b[39melse\u001b[39;00m:\n",
      "\u001b[0;31mKeyboardInterrupt\u001b[0m: "
     ]
    }
   ],
   "source": [
    "# draw_egg(t, 0, 200, 120, 180)\n",
    "\n",
    "for _ in range(0, 100):\n",
    "    leaf(size=300)\n",
    "for _ in range(0, 100):\n",
    "    leaf(size=200)"
   ]
  },
  {
   "cell_type": "code",
   "execution_count": null,
   "metadata": {},
   "outputs": [],
   "source": [
    "inner_circles(t, r=90)\n",
    "inner_circles(t, r=60)\n",
    "inner_circles(t, r=25)"
   ]
  },
  {
   "cell_type": "markdown",
   "metadata": {},
   "source": [
    "## Far Border"
   ]
  },
  {
   "cell_type": "code",
   "execution_count": 3,
   "metadata": {},
   "outputs": [],
   "source": [
    "hash_square(600)\n",
    "hash_square(620)"
   ]
  },
  {
   "cell_type": "markdown",
   "metadata": {},
   "source": [
    "## Circular Droplet Structure"
   ]
  },
  {
   "cell_type": "code",
   "execution_count": null,
   "metadata": {},
   "outputs": [],
   "source": [
    "graphic_size = 100\n",
    "\n",
    "for i in [0.7, 0.72, 0.74, 0.76, 0.78, 0.8]:\n",
    "    droplet(t, i * graphic_size)\n",
    "\n",
    "\n",
    "# ! circle inside droplet\n",
    "# t.circle(25)\n",
    "# t.penup()\n",
    "# t.goto(0, 5)\n",
    "# t.pendown()\n",
    "# t.circle(20)\n",
    "\n",
    "# ! circle on top\n",
    "t.penup()\n",
    "t.goto(0, 225)\n",
    "t.pendown()\n",
    "t.circle(10)\n",
    "t.penup()\n",
    "t.home()\n",
    "t.pendown()"
   ]
  },
  {
   "cell_type": "code",
   "execution_count": null,
   "metadata": {},
   "outputs": [],
   "source": [
    "# counter = 2\n",
    "graphic_size = 100\n",
    "\n",
    "for i in [0.8, 0.7, 0.6, 0.5, 0.4]:\n",
    "    for j in range(6):\n",
    "        t.left(j * 60)\n",
    "        t.forward(i * graphic_size)\n",
    "        t.right(90)\n",
    "        t.pendown()\n",
    "\n",
    "        droplet(t, i * graphic_size, True)\n",
    "\n",
    "        t.penup()\n",
    "        t.home()\n",
    "\n",
    "    # counter += 1"
   ]
  },
  {
   "cell_type": "code",
   "execution_count": null,
   "metadata": {},
   "outputs": [],
   "source": [
    "counter = 2\n",
    "graphic_size = 100\n",
    "\n",
    "for i in [0.8, 0.7, 0.4]:\n",
    "    for j in range(6):\n",
    "        t.left(30 * counter + j * 60)\n",
    "        t.forward(i * graphic_size)\n",
    "        t.right(90)\n",
    "        t.pendown()\n",
    "\n",
    "        droplet(t, i * graphic_size)\n",
    "\n",
    "        t.penup()\n",
    "        t.home()\n",
    "\n",
    "    counter += 1"
   ]
  },
  {
   "cell_type": "markdown",
   "metadata": {},
   "source": [
    "# First Steps"
   ]
  },
  {
   "cell_type": "code",
   "execution_count": null,
   "metadata": {},
   "outputs": [],
   "source": [
    "t = turtle.Turtle()\n",
    "# screen = turtle.Screen()\n",
    "# s = turtle.getscreen()\n",
    "\n",
    "# t.right(90)\n",
    "# t.forward(100)\n",
    "# t.left(90)\n",
    "# t.backward(100)\n",
    "\n",
    "t.goto(100, 100)\n",
    "\n",
    "t.fd(100)\n",
    "t.rt(90)\n",
    "t.fd(100)\n",
    "t.rt(90)\n",
    "t.fd(100)\n",
    "t.rt(90)\n",
    "t.fd(100)\n",
    "\n",
    "t.home()\n",
    "t.hideturtle()\n"
   ]
  },
  {
   "cell_type": "code",
   "execution_count": null,
   "metadata": {},
   "outputs": [],
   "source": [
    "t.circle(60)\n",
    "t.circle(10, 150)"
   ]
  },
  {
   "cell_type": "code",
   "execution_count": null,
   "metadata": {},
   "outputs": [],
   "source": [
    "s = turtle.Screen()\n",
    "canvas = s.getcanvas()\n",
    "\n",
    "# # Save the canvas as an image\n",
    "canvas.postscript(file=\"export/mandala.eps\")  # Save as EPS file\n",
    "\n",
    "# # Close the turtle graphics window\n",
    "# turtle.done()\n",
    "# turtle.bye()"
   ]
  },
  {
   "cell_type": "code",
   "execution_count": null,
   "metadata": {},
   "outputs": [],
   "source": [
    "# Open the EPS file\n",
    "eps_image = Image.open(\"export/mandala.eps\")\n",
    "\n",
    "# Convert the EPS image to PNG\n",
    "png_image = eps_image.convert(\"RGBA\")\n",
    "\n",
    "# Save the PNG image\n",
    "png_image.save(\"export/mandala.png\", \"PNG\")\n",
    "\n",
    "# Close the images\n",
    "eps_image.close()\n",
    "png_image.close()"
   ]
  },
  {
   "cell_type": "markdown",
   "metadata": {},
   "source": [
    "# Example\n",
    "\n",
    "https://www.youtube.com/watch?v=MXeSiUxrhMI&ab_channel=BasicPythonTurtleArt"
   ]
  },
  {
   "cell_type": "code",
   "execution_count": null,
   "metadata": {},
   "outputs": [],
   "source": [
    "t = turtle.Turtle()                     #Definitions and Initializations\n",
    "screen = turtle.Screen()\n",
    "t.pensize(4)\n",
    "graphic_size = 100                              #Changeable; Radius of bigger arc in \"droplet\" as defined below\n",
    "counter = 2                                     #Multiplier of 30 degrees, the difference in angular rotation between droplet sets\n",
    "screen.colormode(255)                           #Requirement to use the red, green, and blue values in (r, g, b)\n",
    "r = 255                                         #Initial red value\n",
    "g = 0                                           #Initial green value\n",
    "b = 50                                          #Initial blue value; Initial (r, g, b) = (255, 0, 50) for darkish red\n",
    "def droplet(x):                                 #Procedure for drawing a \"droplet\" with size x\n",
    "    t.circle(x, 150)                            #Lower right arc of droplet \n",
    "    t.circle(-x, 60)                            #Upper right arc of droplet; negative r for clockwise drawing\n",
    "    t.left(180)                                 #Turtle rotation to draw upper left arc of droplet\n",
    "    t.circle(-x, 60)                            #Upper left arc of droplet; negative r for clockwise drawing\n",
    "    t.circle(x, 150)                            #Lower left arc of droplet\n",
    "t.color(255, 255, 0)                            #Initial pen and fill color, which is yellow\n",
    "t.forward(250)                          #Python_Graphic start of drawing procedure\n",
    "t.left(90)                                      #Turtle rotation after movement from the center of graphic\n",
    "t.fillcolor()                                   #Start of procedure for color filling of big, yellow circle\n",
    "t.begin_fill()\n",
    "t.circle(250)                                   #Drawing of big, yellow circle\n",
    "t.end_fill()                                    #Execution of color fill for big, yellow circle\n",
    "t.color((0, 0, 0), (r, g, b))                   #Change of pen and fill color to black and darkish red, respectively\n",
    "t.penup()\n",
    "t.home()                                        #Trail-less movement of turtle to default center and rotation\n",
    "for i in [0.8, 0.7, 0.4]:                       #Loop to draw three droplet layers or groups with various sizes\n",
    "    for j in range(6):                          #Sub-loop to draw 6 droplets within a layer or group\n",
    "        t.left(30 * counter + j * 60)           #Turtle rotation to draw first of 6 droplets; Reference to \"counter\" above\n",
    "        t.forward(i * graphic_size)             #Trail-less movement of turtle to starting point of a droplet drawing\n",
    "        t.right(90)                             #Turtle rotation to start a droplet drawing\n",
    "        t.pendown()                             #Start of a droplet drawing\n",
    "        t.fillcolor(r, g, b)                    #Start of fill procedure for a droplet with current color (r, g, b)\n",
    "        t.begin_fill()\n",
    "        droplet(i * graphic_size)               #Function call to draw a droplet with indicated size \n",
    "        t.end_fill()                            #Execution of color fill for droplet\n",
    "        t.penup()\n",
    "        t.home()                                #Trail-less movement of turtle to default center and rotation\n",
    "    counter += 1                                #Change of counter value after a layer or group of droplets is drawn\n",
    "    b += 100                                    #Change of blue value to reflect change of fill color for next layer of droplets\n",
    "t.hideturtle()\n",
    "screen.exitonclick()"
   ]
  },
  {
   "cell_type": "markdown",
   "metadata": {},
   "source": [
    "# Mandala"
   ]
  },
  {
   "cell_type": "code",
   "execution_count": null,
   "metadata": {},
   "outputs": [],
   "source": [
    "t = turtle.Turtle()                     #Definitions and Initializations\n",
    "screen = turtle.Screen()\n",
    "\n",
    "t.speed(1000)\n",
    "\n",
    "# t.pensize(4)\n",
    "graphic_size = 100                              #Changeable; Radius of bigger arc in \"droplet\" as defined below\n",
    "counter = 2                                     #Multiplier of 30 degrees, the difference in angular rotation between droplet sets\n",
    "\n",
    "def droplet(x):                                 #Procedure for drawing a \"droplet\" with size x\n",
    "    t.circle(x, 150)                            #Lower right arc of droplet\n",
    "    t.circle(-x, 60)                            #Upper right arc of droplet; negative r for clockwise drawing\n",
    "    t.left(180)                                 #Turtle rotation to draw upper left arc of droplet\n",
    "    t.circle(-x, 60)                            #Upper left arc of droplet; negative r for clockwise drawing\n",
    "    t.circle(x, 150)                            #Lower left arc of droplet\n",
    "\n",
    "t.penup()\n",
    "t.forward(250)                          #Python_Graphic start of drawing procedure\n",
    "t.pendown()\n",
    "t.left(90)                                      #Turtle rotation after movement from the center of graphic\n",
    "t.circle(250)                                   #Drawing of big, yellow circle\n",
    "\n",
    "t.penup()\n",
    "t.home()                                        #Trail-less movement of turtle to default center and rotation\n",
    "\n",
    "t.forward(260)\n",
    "t.pendown()\n",
    "t.left(90)\n",
    "t.circle(260)\n",
    "\n",
    "t.penup()\n",
    "t.home()                                        #Trail-less movement of turtle to default center and rotation\n",
    "\n",
    "for i in [0.8, 0.7, 0.4]:                       #Loop to draw three droplet layers or groups with various sizes\n",
    "    for j in range(6):                          #Sub-loop to draw 6 droplets within a layer or group\n",
    "        t.left(30 * counter + j * 60)           #Turtle rotation to draw first of 6 droplets; Reference to \"counter\" above\n",
    "        t.forward(i * graphic_size)             #Trail-less movement of turtle to starting point of a droplet drawing\n",
    "        t.right(90)                             #Turtle rotation to start a droplet drawing\n",
    "        t.pendown()                             #Start of a droplet drawing\n",
    "\n",
    "        t.fillcolor('white')\n",
    "        t.begin_fill()\n",
    "        droplet(i * graphic_size)               #Function call to draw a droplet with indicated size\n",
    "        t.end_fill()\n",
    "\n",
    "        t.penup()\n",
    "        t.home()                                #Trail-less movement of turtle to default center and rotation\n",
    "\n",
    "    counter += 1                                #Change of counter value after a layer or group of droplets is drawn\n",
    "\n",
    "t.hideturtle()\n",
    "\n",
    "\n",
    "\n",
    "\n",
    "\n",
    "# Save the canvas as an image\n",
    "canvas = screen.getcanvas()\n",
    "canvas.postscript(file='export/mandala.eps')  # Save as EPS file\n",
    "eps_image = Image.open('export/mandala.eps')\n",
    "\n",
    "rbga_image = eps_image.convert('RGBA')\n",
    "rbga_image.save('export/mandala.png', 'PNG', optimize=True, quality=95)\n",
    "rbga_image.close()\n",
    "\n",
    "# rgb_image = eps_image.convert('RGB')\n",
    "# rgb_image.save('export/mandala.jpg', 'JPEG', quality=95)\n",
    "# rgb_image.close()\n",
    "\n",
    "# rgb_image = eps_image.convert('RGB')\n",
    "# rgb_image.save('export/mandala.tiff', format='TIFF')\n",
    "# rgb_image.close()\n",
    "\n",
    "# rgb_image = eps_image.convert('RGB')\n",
    "# drawing = svg2rlg(rgb_image)\n",
    "# renderPM.drawToFile(drawing, 'export/mandala.svg', fmt='SVG')\n",
    "# rgb_image.close()\n",
    "\n",
    "eps_image.close()"
   ]
  },
  {
   "cell_type": "markdown",
   "metadata": {},
   "source": [
    "# Video"
   ]
  },
  {
   "cell_type": "code",
   "execution_count": 1,
   "metadata": {},
   "outputs": [],
   "source": [
    "import turtle as tur\n",
    "\n",
    "from src.shapes.basic import square, hash_square, diamond, triangle_line\n",
    "from src.shapes.medium import inner_circles, leaf, line_dots\n",
    "from src.shapes.frame import plus_frame, corner_frame, triangle_frame\n",
    "\n",
    "tur.speed(20)"
   ]
  },
  {
   "cell_type": "code",
   "execution_count": 2,
   "metadata": {},
   "outputs": [],
   "source": [
    "hash_square(600)\n",
    "hash_square(620)\n",
    "\n",
    "for _ in range(0, 50):\n",
    "    leaf(size=300)\n",
    "for _ in range(0, 50):\n",
    "    leaf(size=200)\n",
    "\n",
    "inner_circles(r=90)\n",
    "inner_circles(r=60)\n",
    "inner_circles(r=25)\n",
    "\n",
    "#! Left\n",
    "line_dots(50, angle=180, circle_r=5)\n",
    "line_dots(40, angle=155, circle_r=5)\n",
    "line_dots(40, angle=205, circle_r=5)\n",
    "\n",
    "#! Right\n",
    "line_dots(50, angle=0, circle_r=5)\n",
    "line_dots(40, angle=25, circle_r=5)\n",
    "line_dots(40, angle=335, circle_r=5)\n",
    "\n",
    "#! Upside\n",
    "line_dots(50, angle=90, circle_r=5)\n",
    "line_dots(40, angle=65, circle_r=5)\n",
    "line_dots(40, angle=115, circle_r=5)\n",
    "\n",
    "#! Downside\n",
    "line_dots(50, angle=270, circle_r=5)\n",
    "line_dots(40, angle=295, circle_r=5)\n",
    "line_dots(40, angle=245, circle_r=5)"
   ]
  },
  {
   "cell_type": "code",
   "execution_count": 2,
   "metadata": {},
   "outputs": [],
   "source": [
    "triangle_frame(False)\n",
    "\n",
    "hash_square(200)\n",
    "hash_square(210)\n",
    "hash_square(300)\n",
    "hash_square(310)\n",
    "hash_square(480)\n",
    "hash_square(500)\n",
    "\n",
    "for _ in range(0, 50):\n",
    "    leaf(size=300)\n",
    "for _ in range(0, 50):\n",
    "    leaf(size=200)\n",
    "\n",
    "inner_circles(r=90)\n",
    "inner_circles(r=60)\n",
    "inner_circles(r=25)"
   ]
  },
  {
   "cell_type": "code",
   "execution_count": 2,
   "metadata": {},
   "outputs": [],
   "source": [
    "tur.bgcolor('black')\n",
    "tur.color('lime')\n",
    "\n",
    "triangle_frame(False)\n",
    "\n",
    "hash_square(200)\n",
    "hash_square(210)\n",
    "hash_square(300)\n",
    "hash_square(310)\n",
    "hash_square(480)\n",
    "hash_square(500)\n",
    "\n",
    "for _ in range(0, 50):\n",
    "    leaf(size=300)\n",
    "for _ in range(0, 50):\n",
    "    leaf(size=200)"
   ]
  }
 ],
 "metadata": {
  "kernelspec": {
   "display_name": "Python 3",
   "language": "python",
   "name": "python3"
  },
  "language_info": {
   "codemirror_mode": {
    "name": "ipython",
    "version": 3
   },
   "file_extension": ".py",
   "mimetype": "text/x-python",
   "name": "python",
   "nbconvert_exporter": "python",
   "pygments_lexer": "ipython3",
   "version": "3.10.12"
  },
  "orig_nbformat": 4
 },
 "nbformat": 4,
 "nbformat_minor": 2
}
